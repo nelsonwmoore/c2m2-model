{
 "cells": [
  {
   "cell_type": "markdown",
   "metadata": {},
   "source": [
    "# CFDE C2M2 Model ETL"
   ]
  },
  {
   "cell_type": "markdown",
   "metadata": {},
   "source": [
    "### Imports"
   ]
  },
  {
   "cell_type": "code",
   "execution_count": 1,
   "metadata": {},
   "outputs": [],
   "source": [
    "import json\n",
    "from bento_meta.objects import Node, Edge, Property\n",
    "from bento_meta.model import Model\n",
    "from bento_meta.mdb.loaders import load_model\n",
    "from bento_meta.mdb.mdb_tools import ToolsMDB\n",
    "from bento_meta.mdb import make_nanoid"
   ]
  },
  {
   "cell_type": "markdown",
   "metadata": {},
   "source": [
    "### C2M2 model JSON to bento-meta model object"
   ]
  },
  {
   "cell_type": "markdown",
   "metadata": {},
   "source": [
    "##### Import model JSON"
   ]
  },
  {
   "cell_type": "markdown",
   "metadata": {},
   "source": [
    "Source: [C2M2 master JSON Schema](https://osf.io/c63aw/)"
   ]
  },
  {
   "cell_type": "code",
   "execution_count": 2,
   "metadata": {},
   "outputs": [],
   "source": [
    "C2M2_JSON = \"data_model/2022-11-22_C2M2_datapackage.json\"\n",
    "COMMIT = \"2022-11-29_c2m2_model\""
   ]
  },
  {
   "cell_type": "code",
   "execution_count": 3,
   "metadata": {},
   "outputs": [],
   "source": [
    "with open(C2M2_JSON, \"r\") as read_file:\n",
    "    c2m2_data = json.load(read_file)"
   ]
  },
  {
   "cell_type": "markdown",
   "metadata": {},
   "source": [
    "##### Instantiate model object"
   ]
  },
  {
   "cell_type": "code",
   "execution_count": 4,
   "metadata": {},
   "outputs": [],
   "source": [
    "c2m2_model = Model(handle=\"C2M2\")"
   ]
  },
  {
   "cell_type": "markdown",
   "metadata": {},
   "source": [
    "##### Instantiate Dev-MDB"
   ]
  },
  {
   "cell_type": "code",
   "execution_count": 5,
   "metadata": {},
   "outputs": [],
   "source": [
    "dev_mdb = ToolsMDB(uri=\"bolt://mdb.ctos-data-team.org:8687\", user=\"\", password=\"\")"
   ]
  },
  {
   "cell_type": "markdown",
   "metadata": {},
   "source": [
    "##### Separate nodes, edges, and other (ternary/trinary association, for further curation)"
   ]
  },
  {
   "cell_type": "markdown",
   "metadata": {},
   "source": [
    "Edges come from association tables in C2M2, which codify relationships between entities"
   ]
  },
  {
   "cell_type": "code",
   "execution_count": 6,
   "metadata": {},
   "outputs": [],
   "source": [
    "json_nodes = []\n",
    "json_edges = []\n",
    "json_other = []\n",
    "prop_nanos = {}\n",
    "link_tbl_desc = (\"Association\", \"(Shallow) association\")\n",
    "\n",
    "for resource in c2m2_data['resources']:\n",
    "    if resource['description'].startswith(link_tbl_desc):\n",
    "        json_edges.append(resource)\n",
    "    elif resource['description'].startswith(\"Trinary association\"):\n",
    "        json_other.append(resource)\n",
    "    else:\n",
    "        json_nodes.append(resource)"
   ]
  },
  {
   "cell_type": "code",
   "execution_count": 7,
   "metadata": {},
   "outputs": [
    {
     "name": "stdout",
     "output_type": "stream",
     "text": [
      "Nodes: 21, Edges: 27, Other: 1\n"
     ]
    }
   ],
   "source": [
    "print(f\"Nodes: {len(json_nodes)}, Edges: {len(json_edges)}, Other: {len(json_other)}\")"
   ]
  },
  {
   "cell_type": "code",
   "execution_count": 8,
   "metadata": {},
   "outputs": [
    {
     "name": "stdout",
     "output_type": "stream",
     "text": [
      "file\n",
      "biosample\n",
      "subject\n",
      "dcc\n",
      "project\n",
      "collection\n",
      "subject_race\n",
      "assay_type\n",
      "analysis_type\n",
      "ncbi_taxonomy\n",
      "anatomy\n",
      "file_format\n",
      "data_type\n",
      "disease\n",
      "phenotype\n",
      "compound\n",
      "substance\n",
      "gene\n",
      "protein\n",
      "sample_prep_method\n",
      "id_namespace\n"
     ]
    }
   ],
   "source": [
    "for node in json_nodes:\n",
    "    print(node['name'])"
   ]
  },
  {
   "cell_type": "code",
   "execution_count": 9,
   "metadata": {},
   "outputs": [
    {
     "name": "stdout",
     "output_type": "stream",
     "text": [
      "project_in_project\n",
      "collection_in_collection\n",
      "file_describes_collection\n",
      "collection_defined_by_project\n",
      "file_in_collection\n",
      "biosample_in_collection\n",
      "subject_in_collection\n",
      "file_describes_biosample\n",
      "file_describes_subject\n",
      "biosample_from_subject\n",
      "biosample_disease\n",
      "subject_disease\n",
      "collection_disease\n",
      "collection_phenotype\n",
      "collection_gene\n",
      "collection_compound\n",
      "collection_substance\n",
      "collection_taxonomy\n",
      "collection_anatomy\n",
      "collection_protein\n",
      "subject_phenotype\n",
      "biosample_substance\n",
      "subject_substance\n",
      "biosample_gene\n",
      "phenotype_gene\n",
      "phenotype_disease\n",
      "protein_gene\n"
     ]
    }
   ],
   "source": [
    "for edge in json_edges:\n",
    "    print(edge['name'])"
   ]
  },
  {
   "cell_type": "code",
   "execution_count": 10,
   "metadata": {},
   "outputs": [
    {
     "name": "stdout",
     "output_type": "stream",
     "text": [
      "subject_role_taxonomy\n"
     ]
    }
   ],
   "source": [
    "for other in json_other:\n",
    "    print(other['name'])"
   ]
  },
  {
   "cell_type": "markdown",
   "metadata": {},
   "source": [
    "##### Add nodes and their properties to the model object"
   ]
  },
  {
   "cell_type": "code",
   "execution_count": 11,
   "metadata": {},
   "outputs": [],
   "source": [
    "for node in json_nodes:\n",
    "    init = Node({\n",
    "        'handle': node['name'],\n",
    "        'model': \"C2M2\",\n",
    "        'desc': node['description'],\n",
    "        '_commit': COMMIT,\n",
    "        'nanoid': dev_mdb.make_nano()\n",
    "    })\n",
    "    if not 'schema' in node and node['schema']:\n",
    "        print('no schema')\n",
    "        continue\n",
    "    if not ('fields' in node['schema'] and node['schema']['fields']):\n",
    "        print('no schema fields')\n",
    "        continue\n",
    "    c2m2_model.add_node(init)\n",
    "    for prop in node['schema']['fields']:\n",
    "        init_p = Property({\n",
    "            'handle': prop['name'],\n",
    "            'model': \"C2M2\",\n",
    "            'desc': prop['description'],\n",
    "            'value_domain': prop['type'],\n",
    "            '_commit': COMMIT\n",
    "        })\n",
    "        if 'constraints' in prop and prop['constraints']:\n",
    "            if 'required' in prop['constraints'] and prop['constraints']['required']:\n",
    "                init_p.is_required = prop['constraints']['required']\n",
    "        \n",
    "        # create new nanoid for property if not unique\n",
    "        # (i.e., combo of prop handle and desc not already used by another node/edge)\n",
    "        if (init_p.handle, init_p.desc) not in prop_nanos.keys():\n",
    "            prop_nanos[(init_p.handle, init_p.desc)] = dev_mdb.make_nano()\n",
    "        init_p.nanoid = prop_nanos[(init_p.handle, init_p.desc)]\n",
    "        c2m2_model.add_prop(init, init_p)"
   ]
  },
  {
   "cell_type": "code",
   "execution_count": 12,
   "metadata": {},
   "outputs": [
    {
     "data": {
      "text/plain": [
       "'mwpeAV'"
      ]
     },
     "execution_count": 12,
     "metadata": {},
     "output_type": "execute_result"
    }
   ],
   "source": [
    "c2m2_model.props[('file', 'id_namespace')].nanoid"
   ]
  },
  {
   "cell_type": "code",
   "execution_count": 13,
   "metadata": {},
   "outputs": [
    {
     "name": "stdout",
     "output_type": "stream",
     "text": [
      "Model Nodes: 21, Model Node Props: 125\n"
     ]
    }
   ],
   "source": [
    "print(f\"Model Nodes: {len(c2m2_model.nodes)}, Model Node Props: {len(c2m2_model.props)}\")"
   ]
  },
  {
   "cell_type": "markdown",
   "metadata": {},
   "source": [
    "All nodes successfully added to model object along with their properties"
   ]
  },
  {
   "cell_type": "markdown",
   "metadata": {},
   "source": [
    "##### Add edges and their properties to the model object"
   ]
  },
  {
   "cell_type": "code",
   "execution_count": 14,
   "metadata": {},
   "outputs": [
    {
     "name": "stdout",
     "output_type": "stream",
     "text": [
      "dst node taxonomy not found for edge collection_taxonomy\n"
     ]
    }
   ],
   "source": [
    "for edge in json_edges:\n",
    "    split_handle = edge['name'].split(\"_\")\n",
    "    # print warning and move on if src or dst node not found in model\n",
    "    if not (split_handle[0] in c2m2_model.nodes and c2m2_model.nodes[split_handle[0]]):\n",
    "        print(f\"src node {split_handle[0]} not found for edge {edge['name']}\")\n",
    "        json_other.append(edge)\n",
    "        continue\n",
    "    if not (split_handle[-1] in c2m2_model.nodes and c2m2_model.nodes[split_handle[-1]]):\n",
    "        print(f\"dst node {split_handle[-1]} not found for edge {edge['name']}\")\n",
    "        json_other.append(edge)\n",
    "        continue\n",
    "    init = Edge({\n",
    "        'handle': \"associated_with\", # generic handle for unspecified relationships\n",
    "        'src': c2m2_model.nodes[split_handle[0]],\n",
    "        'dst': c2m2_model.nodes[split_handle[-1]],\n",
    "        'model': \"C2M2\",\n",
    "        'desc': edge['description'],\n",
    "        '_commit': COMMIT,\n",
    "        'nanoid': dev_mdb.make_nano()\n",
    "    })\n",
    "    if len(split_handle) > 2:\n",
    "        init.handle = \"_\".join(split_handle[1:-1])\n",
    "    if not 'schema' in edge and edge['schema']:\n",
    "        print('no schema')\n",
    "        continue\n",
    "    if not ('fields' in edge['schema'] and edge['schema']['fields']):\n",
    "        print('no schema fields')\n",
    "        continue\n",
    "    edge_nodes = str(init.handle).split()\n",
    "    c2m2_model.add_edge(init)\n",
    "    for prop in edge['schema']['fields']:\n",
    "        init_p = Property({\n",
    "            'handle': prop['name'],\n",
    "            'model': \"C2M2\",\n",
    "            'desc': prop['description'],\n",
    "            'value_domain': prop['type'],\n",
    "            '_commit': COMMIT\n",
    "        })\n",
    "        if 'constraints' in prop and prop['constraints']:\n",
    "            if 'required' in prop['constraints'] and prop['constraints']['required']:\n",
    "                init_p.is_required = prop['constraints']['required']\n",
    "        # create new nanoid for property if not unique\n",
    "        # (i.e., combo of prop handle and desc not already used by another node/edge)\n",
    "        if (init_p.handle, init_p.desc) not in prop_nanos.keys():\n",
    "            prop_nanos[(init_p.handle, init_p.desc)] = dev_mdb.make_nano()\n",
    "        init_p.nanoid = prop_nanos[(init_p.handle, init_p.desc)]\n",
    "        c2m2_model.add_prop(init, init_p)"
   ]
  },
  {
   "cell_type": "code",
   "execution_count": 16,
   "metadata": {},
   "outputs": [
    {
     "name": "stdout",
     "output_type": "stream",
     "text": [
      "Model Edges: 26, Model Edge Props: 89\n"
     ]
    }
   ],
   "source": [
    "print(f\"Model Edges: {len(c2m2_model.edges)}, Model Edge Props: {len(c2m2_model.props) - 125}\")"
   ]
  },
  {
   "cell_type": "markdown",
   "metadata": {},
   "source": [
    "All but 1 edge (collection_taxonomy) added to model object along with their properties"
   ]
  },
  {
   "cell_type": "markdown",
   "metadata": {},
   "source": [
    "### Add C2M2 model object to MDB"
   ]
  },
  {
   "cell_type": "markdown",
   "metadata": {},
   "source": [
    "##### Load C2M2 model"
   ]
  },
  {
   "cell_type": "code",
   "execution_count": 17,
   "metadata": {},
   "outputs": [
    {
     "name": "stderr",
     "output_type": "stream",
     "text": [
      "100%|██████████| 527/527 [00:49<00:00, 10.56it/s]\n"
     ]
    }
   ],
   "source": [
    "load_model(model=c2m2_model, mdb=dev_mdb, _commit=COMMIT)"
   ]
  },
  {
   "cell_type": "markdown",
   "metadata": {},
   "source": [
    "### Curation for other nodes/edges"
   ]
  },
  {
   "cell_type": "code",
   "execution_count": 18,
   "metadata": {},
   "outputs": [
    {
     "name": "stdout",
     "output_type": "stream",
     "text": [
      "2\n"
     ]
    }
   ],
   "source": [
    "print(len(json_other))"
   ]
  },
  {
   "cell_type": "code",
   "execution_count": 19,
   "metadata": {},
   "outputs": [
    {
     "name": "stdout",
     "output_type": "stream",
     "text": [
      "subject_role_taxonomy: Trinary association linking IDs representing (1) a subject, (2) a subject_role (a named organism-level constituent component of a subject, like 'host', 'pathogen', 'endosymbiont', 'taxon detected inside a microbiome subject', etc.) and (3) a taxonomic label (which is hereby assigned to this particular subject_role within this particular subject)\n",
      "\n",
      "collection_taxonomy: Association between a taxon and a C2M2 collection containing experimental resources directly related to the study of that taxon\n",
      "\n"
     ]
    }
   ],
   "source": [
    "for other in json_other:\n",
    "    print(f\"{other['name']}: {other['description']}\\n\")"
   ]
  },
  {
   "cell_type": "markdown",
   "metadata": {},
   "source": [
    "TBD - \"taxonomy\" table same as \"NCBI_taxonomy\"?"
   ]
  }
 ],
 "metadata": {
  "kernelspec": {
   "display_name": "Python 3.8.13 ('bento_test_3_8')",
   "language": "python",
   "name": "python3"
  },
  "language_info": {
   "codemirror_mode": {
    "name": "ipython",
    "version": 3
   },
   "file_extension": ".py",
   "mimetype": "text/x-python",
   "name": "python",
   "nbconvert_exporter": "python",
   "pygments_lexer": "ipython3",
   "version": "3.8.13"
  },
  "orig_nbformat": 4,
  "vscode": {
   "interpreter": {
    "hash": "ce2a05d834a6e1455d54a8cfaa6704fb454d813a6ed075fd3c8a17f8880dd21f"
   }
  }
 },
 "nbformat": 4,
 "nbformat_minor": 2
}
